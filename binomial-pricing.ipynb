{
 "cells": [
  {
   "cell_type": "code",
   "execution_count": 74,
   "id": "b8048ace",
   "metadata": {},
   "outputs": [],
   "source": [
    "import numpy as np\n",
    "import pandas as pd\n",
    "import matplotlib.pyplot as plt\n",
    "import seaborn as sns\n",
    "import yfinance as yf\n",
    "import datetime\n",
    "import os\n",
    "from fredapi import Fred\n",
    "from dotenv import load_dotenv, dotenv_values"
   ]
  },
  {
   "cell_type": "code",
   "execution_count": 75,
   "id": "fb01dbc0",
   "metadata": {},
   "outputs": [],
   "source": [
    "#assigning env variables\n",
    "load_dotenv()\n",
    "FED_API_KEY = os.getenv('FED_API_KEY')\n",
    "FED_RATES = ['DGS1', 'DGS2', 'DGS3', 'DGS5', 'DGS7', 'DGS10', 'DGS20', 'DGS30', 'DGS3MO', 'DGS6MO', 'DGS1MO', 'DGS2MO', 'DGS3MO', 'DGS6MO', 'T10YIE', 'FEDFUNDS']"
   ]
  },
  {
   "cell_type": "code",
   "execution_count": 76,
   "id": "d35ac4a3",
   "metadata": {},
   "outputs": [],
   "source": [
    "#fetch risk free rate from fred data\n",
    "def get_fred_data(rate_id):\n",
    "    fred = Fred(api_key=FED_API_KEY)\n",
    "    risk_free_rate = fred.get_series(rate_id).iloc[-1] / 100\n",
    "    return risk_free_rate"
   ]
  },
  {
   "cell_type": "code",
   "execution_count": 77,
   "id": "a6201e56",
   "metadata": {},
   "outputs": [],
   "source": [
    "#fetch yfinance stock data\n",
    "def get_stock_data(ticker, period='1y'):\n",
    "    stock = yf.Ticker(ticker)\n",
    "    stock_price = stock.history(period='1d')['Close'][0]\n",
    "    hist = stock.history(period=period)\n",
    "    hist['returns'] = hist['Close'].pct_change()\n",
    "    volatility = hist['returns'].std() * (252 ** 0.5)\n",
    "    dividend = stock.info['dividendYield']\n",
    "    return stock_price, volatility, hist, dividend\n",
    "\n"
   ]
  },
  {
   "cell_type": "code",
   "execution_count": 78,
   "id": "192e60a1",
   "metadata": {},
   "outputs": [],
   "source": [
    "def get_time_period(expire_date):\n",
    "    today = datetime.date.today()\n",
    "    time_period = abs((expire_date - today).days)\n",
    "    return time_period"
   ]
  },
  {
   "cell_type": "code",
   "execution_count": 79,
   "id": "b9272977",
   "metadata": {},
   "outputs": [],
   "source": [
    "def binomial_model(S0, K, r, T, n, sd, div=0, option_type=\"Call\", exercise_type=\"European\"):\n",
    "    '''\n",
    "    S0 = initial stock price\n",
    "    K = strike price\n",
    "    r = risk-free rate\n",
    "    T = time until expiry\n",
    "    n = number of time steps\n",
    "    sd = volatility\n",
    "    div = dividend yield\n",
    "    option_type = call or put option\n",
    "    exercise_type = european or american\n",
    "    '''\n",
    "    \n",
    "    #Time to expiry is given in days, so convert to years\n",
    "    T = T / 252\n",
    "\n",
    "    #Assign values to delta T, up factor, down factor, probabilty of going up (p), and probability of going down(q)\n",
    "    deltaT = T / n\n",
    "    up = np.exp(sd*np.sqrt(deltaT))\n",
    "    down = 1 / up\n",
    "    p = (np.exp((r-div)*deltaT) - down) / (up - down)\n",
    "\n",
    "    #Create stock price tree at each time step\n",
    "    stock_tree = np.zeros([n+1,n+1])\n",
    "    for i in range(n+1):\n",
    "        for j in range(i+1):\n",
    "            stock_tree[i, j] = S0*(up**j)*(down**(i-j))\n",
    "    \n",
    "    #Create option value tree at each time step\n",
    "    option_value = np.zeros([n+1,n+1])\n",
    "\n",
    "    #Calculate value of option in the last time step based on each possible stock price in last time step\n",
    "    if option_type == \"Call\":\n",
    "        for j in range(n+1):\n",
    "            option_value[n,j] = max(stock_tree[n,j] - K, 0)  # Call payoff is stock price minus strike price (or zero if not in the money)\n",
    "    elif option_type == \"Put\":\n",
    "        for j in range(n+1):\n",
    "            option_value[n,j] = max(K - stock_tree[n,j], 0)  # Put payoff is strike price minus stock price (or zero if not in the money)\n",
    "    else:\n",
    "        raise ValueError(\"Wrong option type specified\")\n",
    "    \n",
    "    #Calculate values of option in previous time steps using expected value formula\n",
    "    for i in reversed(range(n)):\n",
    "        for j in range(i+1):\n",
    "            continuation = np.exp(-r*deltaT)*(p*option_value[i+1,j+1]+(1-p)*option_value[i+1,j])\n",
    "            if exercise_type == \"American\":\n",
    "                if option_type == \"Call\":\n",
    "                    intrinsic = max(stock_tree[i,j] - K, 0)\n",
    "                if option_type == \"Put\":\n",
    "                    intrinsic = max(K - stock_tree[i,j],0)\n",
    "                option_value[i,j] = max(continuation,intrinsic)\n",
    "            elif exercise_type == \"European\":\n",
    "                option_value[i,j] = continuation\n",
    "            else:\n",
    "                raise ValueError(\"Wrong exercise type specified.\")\n",
    "    return option_value, stock_tree \n",
    "        "
   ]
  },
  {
   "cell_type": "code",
   "execution_count": 80,
   "id": "ac8bd96d",
   "metadata": {},
   "outputs": [
    {
     "data": {
      "text/plain": [
       "(array([[ 6.27089174,  0.        ,  0.        ,  0.        ,  0.        ,\n",
       "          0.        ,  0.        ,  0.        ,  0.        ,  0.        ,\n",
       "          0.        ],\n",
       "        [ 8.25465823,  4.3491602 ,  0.        ,  0.        ,  0.        ,\n",
       "          0.        ,  0.        ,  0.        ,  0.        ,  0.        ,\n",
       "          0.        ],\n",
       "        [10.55326421,  6.03037651,  2.71813119,  0.        ,  0.        ,\n",
       "          0.        ,  0.        ,  0.        ,  0.        ,  0.        ,\n",
       "          0.        ],\n",
       "        [13.08834273,  8.1037394 ,  4.02055557,  1.45297675,  0.        ,\n",
       "          0.        ,  0.        ,  0.        ,  0.        ,  0.        ,\n",
       "          0.        ],\n",
       "        [15.74867254, 10.52277187,  5.76148286,  2.33040379,  0.59972303,\n",
       "          0.        ,  0.        ,  0.        ,  0.        ,  0.        ,\n",
       "          0.        ],\n",
       "        [18.42238914, 13.1766058 ,  7.95720183,  3.63151111,  1.06557697,\n",
       "          0.14627898,  0.        ,  0.        ,  0.        ,  0.        ,\n",
       "          0.        ],\n",
       "        [21.03722351, 15.91443352, 10.53557303,  5.45898178,  1.85588413,\n",
       "          0.29644187,  0.        ,  0.        ,  0.        ,  0.        ,\n",
       "          0.        ],\n",
       "        [23.57559299, 18.61040363, 13.32104505,  7.84148431,  3.14585988,\n",
       "          0.60075467,  0.        ,  0.        ,  0.        ,  0.        ,\n",
       "          0.        ],\n",
       "        [26.03985497, 21.22741774, 16.10078421, 10.63944103,  5.12854333,\n",
       "          1.2174602 ,  0.        ,  0.        ,  0.        ,  0.        ,\n",
       "          0.        ],\n",
       "        [28.43229433, 23.76790986, 18.79899522, 13.50566813,  7.86674822,\n",
       "          2.46724563,  0.        ,  0.        ,  0.        ,  0.        ,\n",
       "          0.        ],\n",
       "        [30.75512566, 26.23423915, 21.41819124, 16.28771129, 10.82227057,\n",
       "          5.        ,  0.        ,  0.        ,  0.        ,  0.        ,\n",
       "          0.        ]]),\n",
       " array([[ 95.        ,   0.        ,   0.        ,   0.        ,\n",
       "           0.        ,   0.        ,   0.        ,   0.        ,\n",
       "           0.        ,   0.        ,   0.        ],\n",
       "        [ 92.04283946,  98.05216845,   0.        ,   0.        ,\n",
       "           0.        ,   0.        ,   0.        ,   0.        ,\n",
       "           0.        ,   0.        ,   0.        ],\n",
       "        [ 89.17772943,  95.        , 101.20239725,   0.        ,\n",
       "           0.        ,   0.        ,   0.        ,   0.        ,\n",
       "           0.        ,   0.        ,   0.        ],\n",
       "        [ 86.40180457,  92.04283946,  98.05216845, 104.45383687,\n",
       "           0.        ,   0.        ,   0.        ,   0.        ,\n",
       "           0.        ,   0.        ,   0.        ],\n",
       "        [ 83.71228871,  89.17772943,  95.        , 101.20239725,\n",
       "         107.80973904,   0.        ,   0.        ,   0.        ,\n",
       "           0.        ,   0.        ,   0.        ],\n",
       "        [ 81.10649211,  86.40180457,  92.04283946,  98.05216845,\n",
       "         104.45383687, 111.27345993,   0.        ,   0.        ,\n",
       "           0.        ,   0.        ,   0.        ],\n",
       "        [ 78.58180876,  83.71228871,  89.17772943,  95.        ,\n",
       "         101.20239725, 107.80973904, 114.84846356,   0.        ,\n",
       "           0.        ,   0.        ,   0.        ],\n",
       "        [ 76.13571378,  81.10649211,  86.40180457,  92.04283946,\n",
       "          98.05216845, 104.45383687, 111.27345993, 118.53832521,\n",
       "           0.        ,   0.        ,   0.        ],\n",
       "        [ 73.76576085,  78.58180876,  83.71228871,  89.17772943,\n",
       "          95.        , 101.20239725, 107.80973904, 114.84846356,\n",
       "         122.34673508,   0.        ,   0.        ],\n",
       "        [ 71.46957983,  76.13571378,  81.10649211,  86.40180457,\n",
       "          92.04283946,  98.05216845, 104.45383687, 111.27345993,\n",
       "         118.53832521, 126.27750187,   0.        ],\n",
       "        [ 69.24487434,  73.76576085,  78.58180876,  83.71228871,\n",
       "          89.17772943,  95.        , 101.20239725, 107.80973904,\n",
       "         114.84846356, 122.34673508, 130.33455669]]))"
      ]
     },
     "execution_count": 80,
     "metadata": {},
     "output_type": "execute_result"
    }
   ],
   "source": [
    "binomial_model(95, 100, 0.05, 63, 10, 0.2, 0.015, \"Put\")"
   ]
  },
  {
   "cell_type": "code",
   "execution_count": null,
   "id": "008b0686",
   "metadata": {},
   "outputs": [
    {
     "name": "stderr",
     "output_type": "stream",
     "text": [
      "/var/folders/_8/wd_8wp492y9bssv94k3bcft00000gn/T/ipykernel_14666/285544222.py:4: FutureWarning: Series.__getitem__ treating keys as positions is deprecated. In a future version, integer keys will always be treated as labels (consistent with DataFrame behavior). To access a value by position, use `ser.iloc[pos]`\n",
      "  stock_price = stock.history(period='1d')['Close'][0]\n"
     ]
    }
   ],
   "source": [
    "#data input\n",
    "ticker = 'AAPL'\n",
    "strike_price = float(110)\n",
    "risk_free_rates = FED_RATES[5]\n",
    "expire_date = datetime.date(2025,6,20)\n",
    "num_steps = 100\n",
    "opt_type = 'Call'\n",
    "exercise_type = \"American\"\n",
    "\n",
    "if ticker:\n",
    "    apple = yf.Ticker(\"AAPL\")\n",
    "    #stock_price = apple.history(period=\"1d\")['Close'][0]\n",
    "    stock_price, volatility, hist, div_yield = get_stock_data(ticker)\n",
    "else:\n",
    "    print('Please enter a valid stock ticker symbol.')\n",
    "\n",
    "if expire_date:\n",
    "    time = get_time_period(expire_date)\n",
    "else:\n",
    "    print('Please enter a valid date.')\n",
    "\n",
    "if risk_free_rates:\n",
    "    rate = get_fred_data(risk_free_rates)"
   ]
  },
  {
   "cell_type": "code",
   "execution_count": 84,
   "id": "9596c69f",
   "metadata": {},
   "outputs": [
    {
     "name": "stdout",
     "output_type": "stream",
     "text": [
      "The value of your option is $86.58\n"
     ]
    }
   ],
   "source": [
    "if ticker and stock_price and rate and time and volatility and num_steps:\n",
    "    opt_tree, stock_tree = binomial_model(stock_price, strike_price, rate, time, num_steps, volatility, option_type=opt_type,exercise_type=\"American\")\n",
    "    print(f\"The value of your option is ${round(opt_tree[0,0],2)}\")\n",
    "else:\n",
    "    print('Error. Please try again.')"
   ]
  },
  {
   "cell_type": "code",
   "execution_count": 95,
   "id": "f506cddb",
   "metadata": {},
   "outputs": [
    {
     "name": "stdout",
     "output_type": "stream",
     "text": [
      "4.047962499234387\n"
     ]
    }
   ],
   "source": [
    "opt_tree, stock_tree = binomial_model(36, 40, 0.06, 63, 100, 0.2, 0.0, \"Put\", \"American\")\n",
    "print(opt_tree[0,0])"
   ]
  }
 ],
 "metadata": {
  "kernelspec": {
   "display_name": ".venv",
   "language": "python",
   "name": "python3"
  },
  "language_info": {
   "codemirror_mode": {
    "name": "ipython",
    "version": 3
   },
   "file_extension": ".py",
   "mimetype": "text/x-python",
   "name": "python",
   "nbconvert_exporter": "python",
   "pygments_lexer": "ipython3",
   "version": "3.11.4"
  }
 },
 "nbformat": 4,
 "nbformat_minor": 5
}
